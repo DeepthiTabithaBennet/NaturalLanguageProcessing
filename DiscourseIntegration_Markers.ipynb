{
  "nbformat": 4,
  "nbformat_minor": 0,
  "metadata": {
    "colab": {
      "provenance": [],
      "include_colab_link": true
    },
    "kernelspec": {
      "name": "python3",
      "display_name": "Python 3"
    },
    "language_info": {
      "name": "python"
    }
  },
  "cells": [
    {
      "cell_type": "markdown",
      "metadata": {
        "id": "view-in-github",
        "colab_type": "text"
      },
      "source": [
        "<a href=\"https://colab.research.google.com/github/DeepthiTabithaBennet/NaturalLanguageProcessing/blob/main/DiscourseIntegration_Markers.ipynb\" target=\"_parent\"><img src=\"https://colab.research.google.com/assets/colab-badge.svg\" alt=\"Open In Colab\"/></a>"
      ]
    },
    {
      "cell_type": "code",
      "source": [
        "'''A Hare was making fun of the Tortoise one day for being so slow.\n",
        "\n",
        "\"Do you ever get anywhere?\" he asked with a mocking laugh.\n",
        "\n",
        "\"Yes,\" replied the Tortoise, \"and I get there sooner than you think. In fact, I'll run you a race and prove it.\"\n",
        "\n",
        "The Hare was much amused at the idea of running a race with the Tortoise, but for the fun of the thing he agreed.\n",
        "\n",
        "So the Fox, who had consented to act as judge, marked the distance and started the runners off.\n",
        "\n",
        "The Hare was soon far out of sight, and to make the Tortoise feel very deeply how ridiculous it was for him to try a race with a Hare, he lay down beside the course to take a nap until the Tortoise should catch up.\n",
        "\n",
        "The Tortoise meanwhile kept going slowly but steadily, and, after a time, passed the place where the Hare was sleeping.\n",
        "\n",
        "However, the Hare slept on very peacefully; and when at last he did wake up, the Tortoise was finally near the goal.\n",
        "\n",
        "The Hare now ran his swiftest, yet he could not overtake the Tortoise in time.'''"
      ],
      "metadata": {
        "colab": {
          "base_uri": "https://localhost:8080/",
          "height": 122
        },
        "id": "nvQoaDJngPD6",
        "outputId": "29a29b67-1049-4e2f-c833-4f339afdc546"
      },
      "execution_count": null,
      "outputs": [
        {
          "output_type": "execute_result",
          "data": {
            "text/plain": [
              "'A Hare was making fun of the Tortoise one day for being so slow.\\n\\n\"Do you ever get anywhere?\" he asked with a mocking laugh.\\n\\n\"Yes,\" replied the Tortoise, \"and I get there sooner than you think. In fact, I\\'ll run you a race and prove it.\"\\n\\nThe Hare was much amused at the idea of running a race with the Tortoise, but for the fun of the thing he agreed.\\n\\nSo the Fox, who had consented to act as judge, marked the distance and started the runners off.\\n\\nThe Hare was soon far out of sight, and to make the Tortoise feel very deeply how ridiculous it was for him to try a race with a Hare, he lay down beside the course to take a nap until the Tortoise should catch up.\\n\\nThe Tortoise meanwhile kept going slowly but steadily, and, after a time, passed the place where the Hare was sleeping.\\n\\nBut the Hare slept on very peacefully; and when at last he did wake up, the Tortoise was finally near the goal.\\n\\nThe Hare now ran his swiftest, yet he could not overtake the Tortoise in time.'"
            ],
            "application/vnd.google.colaboratory.intrinsic+json": {
              "type": "string"
            }
          },
          "metadata": {},
          "execution_count": 29
        }
      ]
    },
    {
      "cell_type": "code",
      "source": [
        "def categorize_discourse_markers(text):\n",
        "    # Define discourse markers using individual arrays\n",
        "    additive_markers = ['and', 'also', 'furthermore', 'moreover']\n",
        "    contrastive_markers = ['but', 'however', 'yet']\n",
        "    causal_markers = ['because', 'therefore', 'thus', 'since']\n",
        "    temporal_markers = ['first', 'next', 'finally', 'meanwhile']\n",
        "\n",
        "    # Initialize a dictionary to hold results\n",
        "    categorized_markers = {\n",
        "        'additive': [],\n",
        "        'contrastive': [],\n",
        "        'causal': [],\n",
        "        'temporal': [],\n",
        "    }\n",
        "\n",
        "    # Split the text into words and check for discourse markers\n",
        "    words = text.lower().split()\n",
        "    for word in words:\n",
        "        if word in additive_markers:\n",
        "            categorized_markers['additive'].append(word)\n",
        "        elif word in contrastive_markers:\n",
        "            categorized_markers['contrastive'].append(word)\n",
        "        elif word in causal_markers:\n",
        "            categorized_markers['causal'].append(word)\n",
        "        elif word in temporal_markers:\n",
        "            categorized_markers['temporal'].append(word)\n",
        "\n",
        "    return categorized_markers"
      ],
      "metadata": {
        "id": "uVyDMtUeY5EB"
      },
      "execution_count": null,
      "outputs": []
    },
    {
      "cell_type": "code",
      "source": [
        "input_text = input()\n",
        "result = categorize_discourse_markers(input_text)\n",
        "print(result)"
      ],
      "metadata": {
        "colab": {
          "base_uri": "https://localhost:8080/"
        },
        "id": "V8sTp446WW0F",
        "outputId": "a30683b1-78d5-4675-ac8a-9d127a12382b"
      },
      "execution_count": null,
      "outputs": [
        {
          "output_type": "stream",
          "name": "stdout",
          "text": [
            "A Hare was making fun of the Tortoise one day for being so slow.  \"Do you ever get anywhere?\" he asked with a mocking laugh.  \"Yes,\" replied the Tortoise, \"and I get there sooner than you think. In fact, I'll run you a race and prove it.\"  The Hare was much amused at the idea of running a race with the Tortoise, but for the fun of the thing he agreed.  So the Fox, who had consented to act as judge, marked the distance and started the runners off.  The Hare was soon far out of sight, and to make the Tortoise feel very deeply how ridiculous it was for him to try a race with a Hare, he lay down beside the course to take a nap until the Tortoise should catch up.  The Tortoise meanwhile kept going slowly but steadily, and, after a time, passed the place where the Hare was sleeping.  But the Hare slept on very peacefully; and when at last he did wake up, the Tortoise was finally near the goal.  The Hare now ran his swiftest, yet he could not overtake the Tortoise in time.\n",
            "{'additive': ['and', 'and', 'and', 'and'], 'contrastive': ['but', 'but', 'but', 'yet'], 'causal': [], 'temporal': ['meanwhile', 'finally']}\n"
          ]
        }
      ]
    }
  ]
}