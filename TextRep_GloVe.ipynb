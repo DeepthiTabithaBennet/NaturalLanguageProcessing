{
  "cells": [
    {
      "cell_type": "markdown",
      "metadata": {
        "id": "view-in-github",
        "colab_type": "text"
      },
      "source": [
        "<a href=\"https://colab.research.google.com/github/DeepthiTabithaBennet/NaturalLanguageProcessing/blob/main/TextRep_GloVe.ipynb\" target=\"_parent\"><img src=\"https://colab.research.google.com/assets/colab-badge.svg\" alt=\"Open In Colab\"/></a>"
      ]
    },
    {
      "cell_type": "code",
      "source": [
        "# https://github.com/maciejkula/glove-python\n",
        "\n",
        "# https://pypi.org/project/glove-py/"
      ],
      "metadata": {
        "id": "lCEqzJXMoyBu"
      },
      "execution_count": null,
      "outputs": []
    },
    {
      "cell_type": "code",
      "source": [
        "# Look at these\n",
        "\n",
        "# https://stackoverflow.com/questions/68785201/how-to-create-a-glove-embeddings"
      ],
      "metadata": {
        "id": "Vku4PaOX50yY"
      },
      "execution_count": null,
      "outputs": []
    },
    {
      "cell_type": "code",
      "source": [
        "! pip install gensim\n",
        "! pip install nltk\n",
        "! pip install numpy"
      ],
      "metadata": {
        "id": "M2c9FkyHKbH0",
        "colab": {
          "base_uri": "https://localhost:8080/"
        },
        "outputId": "d32290fb-d5b6-42ce-f1a1-9ccc10925b36"
      },
      "execution_count": null,
      "outputs": [
        {
          "output_type": "stream",
          "name": "stdout",
          "text": [
            "Requirement already satisfied: gensim in /usr/local/lib/python3.10/dist-packages (4.3.3)\n",
            "Requirement already satisfied: numpy<2.0,>=1.18.5 in /usr/local/lib/python3.10/dist-packages (from gensim) (1.26.4)\n",
            "Requirement already satisfied: scipy<1.14.0,>=1.7.0 in /usr/local/lib/python3.10/dist-packages (from gensim) (1.13.1)\n",
            "Requirement already satisfied: smart-open>=1.8.1 in /usr/local/lib/python3.10/dist-packages (from gensim) (7.0.5)\n",
            "Requirement already satisfied: wrapt in /usr/local/lib/python3.10/dist-packages (from smart-open>=1.8.1->gensim) (1.16.0)\n",
            "Requirement already satisfied: nltk in /usr/local/lib/python3.10/dist-packages (3.8.1)\n",
            "Requirement already satisfied: click in /usr/local/lib/python3.10/dist-packages (from nltk) (8.1.7)\n",
            "Requirement already satisfied: joblib in /usr/local/lib/python3.10/dist-packages (from nltk) (1.4.2)\n",
            "Requirement already satisfied: regex>=2021.8.3 in /usr/local/lib/python3.10/dist-packages (from nltk) (2024.9.11)\n",
            "Requirement already satisfied: tqdm in /usr/local/lib/python3.10/dist-packages (from nltk) (4.66.5)\n",
            "Requirement already satisfied: numpy in /usr/local/lib/python3.10/dist-packages (1.26.4)\n"
          ]
        }
      ]
    },
    {
      "cell_type": "code",
      "source": [
        "import gensim.downloader as api\n",
        "import numpy as np\n",
        "import nltk\n",
        "from nltk.tokenize import word_tokenize\n",
        "\n",
        "nltk.download('punkt')"
      ],
      "metadata": {
        "id": "6Tbmy8LSnVVv",
        "colab": {
          "base_uri": "https://localhost:8080/"
        },
        "outputId": "f2e73717-3a0b-4299-b9f1-cb01af59d1f4"
      },
      "execution_count": null,
      "outputs": [
        {
          "output_type": "stream",
          "name": "stderr",
          "text": [
            "[nltk_data] Downloading package punkt to /root/nltk_data...\n",
            "[nltk_data]   Unzipping tokenizers/punkt.zip.\n"
          ]
        },
        {
          "output_type": "execute_result",
          "data": {
            "text/plain": [
              "True"
            ]
          },
          "metadata": {},
          "execution_count": 4
        }
      ]
    },
    {
      "cell_type": "code",
      "source": [
        "text_data = \"\"\"\n",
        "Natural Language Processing (NLP) is a field of artificial intelligence\n",
        "that focuses on the interaction between computers and humans through natural language.\n",
        "The ultimate objective of NLP is to enable computers to understand, interpret,\n",
        "and generate human language in a valuable way.\n",
        "\"\"\"\n",
        "\n",
        "tokens = word_tokenize(text_data.lower())"
      ],
      "metadata": {
        "id": "mmQSFggiKysH"
      },
      "execution_count": null,
      "outputs": []
    },
    {
      "cell_type": "code",
      "source": [
        "# Load GloVe model (using pre-trained embeddings)\n",
        "glove_model = api.load(\"glove-wiki-gigaword-100\")  # You can also load your own file\n",
        "\n",
        "word = 'language'\n",
        "if word in glove_model:\n",
        "    vector = glove_model[word]\n",
        "    print(\"Vector for\", word, \":\\n\", vector)"
      ],
      "metadata": {
        "id": "4463kcoRncuT",
        "colab": {
          "base_uri": "https://localhost:8080/"
        },
        "outputId": "097ffea9-d17e-43eb-da4b-0896dd7ce354"
      },
      "execution_count": null,
      "outputs": [
        {
          "output_type": "stream",
          "name": "stdout",
          "text": [
            "[==================================================] 100.0% 128.1/128.1MB downloaded\n",
            "Vector for language :\n",
            " [ 0.18519   0.34111   0.36097   0.27093  -0.031335  0.83923  -0.50534\n",
            " -0.80062   0.40695   0.82488  -0.98239  -0.6354   -0.21382   0.079889\n",
            " -0.29557   0.17075   0.17479  -0.74214  -0.2677    0.21074  -0.41795\n",
            "  0.027713  0.71123   0.2063   -0.12266  -0.80088   0.22942   0.041037\n",
            " -0.56901   0.097472 -0.59139   1.0524   -0.66803  -0.70471   0.69757\n",
            " -0.11137  -0.27816   0.047361  0.020305 -0.184    -1.0254    0.11297\n",
            " -0.79547   0.41642  -0.2508   -0.3188    0.37044  -0.26873  -0.36185\n",
            " -0.096621 -0.029956  0.67308   0.53102   0.62816  -0.11507  -1.5524\n",
            " -0.30628  -0.4253    1.8887    0.3247    0.60202   0.81163  -0.46029\n",
            " -1.4061    0.80229   0.2019    0.60938   0.063545  0.21925  -0.043372\n",
            " -0.36648   0.61308   1.0207   -0.39014   0.1717    0.61272  -0.80342\n",
            "  0.71295  -1.0938   -0.50546  -0.99668  -1.6701   -0.31804  -0.62934\n",
            " -2.0226    0.79405  -0.16994  -0.37627   0.57998   0.16643   0.1356\n",
            "  0.0943   -0.24154   0.7123   -0.4201    0.24735  -0.94449  -1.0794\n",
            "  0.3413    0.34704 ]\n"
          ]
        }
      ]
    },
    {
      "cell_type": "code",
      "source": [
        "# Finding similar words\n",
        "similar_words = glove_model.most_similar('language', topn=5)\n",
        "print(\"Most similar words to 'language':\")\n",
        "for similar_word, similarity in similar_words:\n",
        "    print(similar_word, \":\", similarity)"
      ],
      "metadata": {
        "id": "OaIr0L_2nfBk",
        "colab": {
          "base_uri": "https://localhost:8080/"
        },
        "outputId": "15b7344d-c3d7-4e6e-aace-6aadb73815c0"
      },
      "execution_count": null,
      "outputs": [
        {
          "output_type": "stream",
          "name": "stdout",
          "text": [
            "Most similar words to 'language':\n",
            "languages : 0.8260655403137207 :\n",
            "word : 0.7464082837104797 :\n",
            "spoken : 0.7381494045257568 :\n",
            "arabic : 0.7318817377090454 :\n",
            "english : 0.7214903831481934 :\n"
          ]
        }
      ]
    }
  ],
  "metadata": {
    "colab": {
      "provenance": [],
      "authorship_tag": "ABX9TyNEvQ/Qn8Zl5t4wvrFGoKa0",
      "include_colab_link": true
    },
    "kernelspec": {
      "display_name": "Python 3",
      "name": "python3"
    },
    "language_info": {
      "name": "python"
    }
  },
  "nbformat": 4,
  "nbformat_minor": 0
}