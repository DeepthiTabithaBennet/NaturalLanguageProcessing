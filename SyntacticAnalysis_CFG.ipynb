{
  "nbformat": 4,
  "nbformat_minor": 0,
  "metadata": {
    "colab": {
      "provenance": [],
      "authorship_tag": "ABX9TyOfENmvk3dWoxgosHIx2WIL",
      "include_colab_link": true
    },
    "kernelspec": {
      "name": "python3",
      "display_name": "Python 3"
    },
    "language_info": {
      "name": "python"
    }
  },
  "cells": [
    {
      "cell_type": "markdown",
      "metadata": {
        "id": "view-in-github",
        "colab_type": "text"
      },
      "source": [
        "<a href=\"https://colab.research.google.com/github/DeepthiTabithaBennet/NaturalLanguageProcessing/blob/main/SyntacticAnalysis_CFG.ipynb\" target=\"_parent\"><img src=\"https://colab.research.google.com/assets/colab-badge.svg\" alt=\"Open In Colab\"/></a>"
      ]
    },
    {
      "cell_type": "code",
      "source": [
        "# https://www.topcoder.com/thrive/articles/syntactic-analysis-by-nlp\n",
        "\n",
        "# https://www.mygreatlearning.com/blog/pos-tagging/"
      ],
      "metadata": {
        "id": "cH3Vud_eG1q_"
      },
      "execution_count": null,
      "outputs": []
    },
    {
      "cell_type": "code",
      "source": [
        "import nltk\n",
        "from nltk import CFG\n",
        "from nltk.parse.chart import ChartParser\n",
        "\n",
        "grammar = CFG.fromstring(\"\"\"\n",
        "    S -> NP VP\n",
        "    NP -> Det N | Det N PP\n",
        "    PP -> P NP\n",
        "    VP -> V NP | VP PP\n",
        "    Det -> 'the' | 'a'\n",
        "    N -> 'dog' | 'cat' | 'bat'\n",
        "    V -> 'chased' | 'saw'\n",
        "    P -> 'with' | 'in'\n",
        "\"\"\")\n",
        "\n",
        "parser = ChartParser(grammar)\n",
        "sentence = \"the dog chased the cat with a bat\"\n",
        "tokens = sentence.split()\n",
        "\n",
        "parse_trees = list(parser.parse(tokens))\n",
        "for tree in parse_trees:\n",
        "    tree.pretty_print()"
      ],
      "metadata": {
        "id": "3TBBxv9yVup8",
        "colab": {
          "base_uri": "https://localhost:8080/"
        },
        "outputId": "a970902d-7156-4def-aa14-406cdf20a4d7"
      },
      "execution_count": null,
      "outputs": [
        {
          "output_type": "stream",
          "name": "stdout",
          "text": [
            "                    S                          \n",
            "      ______________|_______                    \n",
            "     |                      VP                 \n",
            "     |               _______|________           \n",
            "     |              VP               PP        \n",
            "     |         _____|___         ____|___       \n",
            "     NP       |         NP      |        NP    \n",
            "  ___|___     |      ___|___    |     ___|___   \n",
            "Det      N    V    Det      N   P   Det      N \n",
            " |       |    |     |       |   |    |       |  \n",
            "the     dog chased the     cat with  a      bat\n",
            "\n",
            "                    S                      \n",
            "      ______________|___                    \n",
            "     |                  VP                 \n",
            "     |         _________|___                \n",
            "     |        |             NP             \n",
            "     |        |      _______|____           \n",
            "     |        |     |   |        PP        \n",
            "     |        |     |   |    ____|___       \n",
            "     NP       |     |   |   |        NP    \n",
            "  ___|___     |     |   |   |     ___|___   \n",
            "Det      N    V    Det  N   P   Det      N \n",
            " |       |    |     |   |   |    |       |  \n",
            "the     dog chased the cat with  a      bat\n",
            "\n"
          ]
        }
      ]
    },
    {
      "cell_type": "code",
      "source": [
        "import nltk\n",
        "\n",
        "nltk.download('tagsets')\n",
        "nltk.help.upenn_tagset()"
      ],
      "metadata": {
        "colab": {
          "base_uri": "https://localhost:8080/"
        },
        "id": "V5p6FBtyWhe0",
        "outputId": "3b51246b-664a-4fe3-c263-d0fe2349f665"
      },
      "execution_count": null,
      "outputs": [
        {
          "output_type": "stream",
          "name": "stdout",
          "text": [
            "$: dollar\n",
            "    $ -$ --$ A$ C$ HK$ M$ NZ$ S$ U.S.$ US$\n",
            "'': closing quotation mark\n",
            "    ' ''\n",
            "(: opening parenthesis\n",
            "    ( [ {\n",
            "): closing parenthesis\n",
            "    ) ] }\n",
            ",: comma\n",
            "    ,\n",
            "--: dash\n",
            "    --\n",
            ".: sentence terminator\n",
            "    . ! ?\n",
            ":: colon or ellipsis\n",
            "    : ; ...\n",
            "CC: conjunction, coordinating\n",
            "    & 'n and both but either et for less minus neither nor or plus so\n",
            "    therefore times v. versus vs. whether yet\n",
            "CD: numeral, cardinal\n",
            "    mid-1890 nine-thirty forty-two one-tenth ten million 0.5 one forty-\n",
            "    seven 1987 twenty '79 zero two 78-degrees eighty-four IX '60s .025\n",
            "    fifteen 271,124 dozen quintillion DM2,000 ...\n",
            "DT: determiner\n",
            "    all an another any both del each either every half la many much nary\n",
            "    neither no some such that the them these this those\n",
            "EX: existential there\n",
            "    there\n",
            "FW: foreign word\n",
            "    gemeinschaft hund ich jeux habeas Haementeria Herr K'ang-si vous\n",
            "    lutihaw alai je jour objets salutaris fille quibusdam pas trop Monte\n",
            "    terram fiche oui corporis ...\n",
            "IN: preposition or conjunction, subordinating\n",
            "    astride among uppon whether out inside pro despite on by throughout\n",
            "    below within for towards near behind atop around if like until below\n",
            "    next into if beside ...\n",
            "JJ: adjective or numeral, ordinal\n",
            "    third ill-mannered pre-war regrettable oiled calamitous first separable\n",
            "    ectoplasmic battery-powered participatory fourth still-to-be-named\n",
            "    multilingual multi-disciplinary ...\n",
            "JJR: adjective, comparative\n",
            "    bleaker braver breezier briefer brighter brisker broader bumper busier\n",
            "    calmer cheaper choosier cleaner clearer closer colder commoner costlier\n",
            "    cozier creamier crunchier cuter ...\n",
            "JJS: adjective, superlative\n",
            "    calmest cheapest choicest classiest cleanest clearest closest commonest\n",
            "    corniest costliest crassest creepiest crudest cutest darkest deadliest\n",
            "    dearest deepest densest dinkiest ...\n",
            "LS: list item marker\n",
            "    A A. B B. C C. D E F First G H I J K One SP-44001 SP-44002 SP-44005\n",
            "    SP-44007 Second Third Three Two * a b c d first five four one six three\n",
            "    two\n",
            "MD: modal auxiliary\n",
            "    can cannot could couldn't dare may might must need ought shall should\n",
            "    shouldn't will would\n",
            "NN: noun, common, singular or mass\n",
            "    common-carrier cabbage knuckle-duster Casino afghan shed thermostat\n",
            "    investment slide humour falloff slick wind hyena override subhumanity\n",
            "    machinist ...\n",
            "NNP: noun, proper, singular\n",
            "    Motown Venneboerger Czestochwa Ranzer Conchita Trumplane Christos\n",
            "    Oceanside Escobar Kreisler Sawyer Cougar Yvette Ervin ODI Darryl CTCA\n",
            "    Shannon A.K.C. Meltex Liverpool ...\n",
            "NNPS: noun, proper, plural\n",
            "    Americans Americas Amharas Amityvilles Amusements Anarcho-Syndicalists\n",
            "    Andalusians Andes Andruses Angels Animals Anthony Antilles Antiques\n",
            "    Apache Apaches Apocrypha ...\n",
            "NNS: noun, common, plural\n",
            "    undergraduates scotches bric-a-brac products bodyguards facets coasts\n",
            "    divestitures storehouses designs clubs fragrances averages\n",
            "    subjectivists apprehensions muses factory-jobs ...\n",
            "PDT: pre-determiner\n",
            "    all both half many quite such sure this\n",
            "POS: genitive marker\n",
            "    ' 's\n",
            "PRP: pronoun, personal\n",
            "    hers herself him himself hisself it itself me myself one oneself ours\n",
            "    ourselves ownself self she thee theirs them themselves they thou thy us\n",
            "PRP$: pronoun, possessive\n",
            "    her his mine my our ours their thy your\n",
            "RB: adverb\n",
            "    occasionally unabatingly maddeningly adventurously professedly\n",
            "    stirringly prominently technologically magisterially predominately\n",
            "    swiftly fiscally pitilessly ...\n",
            "RBR: adverb, comparative\n",
            "    further gloomier grander graver greater grimmer harder harsher\n",
            "    healthier heavier higher however larger later leaner lengthier less-\n",
            "    perfectly lesser lonelier longer louder lower more ...\n",
            "RBS: adverb, superlative\n",
            "    best biggest bluntest earliest farthest first furthest hardest\n",
            "    heartiest highest largest least less most nearest second tightest worst\n",
            "RP: particle\n",
            "    aboard about across along apart around aside at away back before behind\n",
            "    by crop down ever fast for forth from go high i.e. in into just later\n",
            "    low more off on open out over per pie raising start teeth that through\n",
            "    under unto up up-pp upon whole with you\n",
            "SYM: symbol\n",
            "    % & ' '' ''. ) ). * + ,. < = > @ A[fj] U.S U.S.S.R * ** ***\n",
            "TO: \"to\" as preposition or infinitive marker\n",
            "    to\n",
            "UH: interjection\n",
            "    Goodbye Goody Gosh Wow Jeepers Jee-sus Hubba Hey Kee-reist Oops amen\n",
            "    huh howdy uh dammit whammo shucks heck anyways whodunnit honey golly\n",
            "    man baby diddle hush sonuvabitch ...\n",
            "VB: verb, base form\n",
            "    ask assemble assess assign assume atone attention avoid bake balkanize\n",
            "    bank begin behold believe bend benefit bevel beware bless boil bomb\n",
            "    boost brace break bring broil brush build ...\n",
            "VBD: verb, past tense\n",
            "    dipped pleaded swiped regummed soaked tidied convened halted registered\n",
            "    cushioned exacted snubbed strode aimed adopted belied figgered\n",
            "    speculated wore appreciated contemplated ...\n",
            "VBG: verb, present participle or gerund\n",
            "    telegraphing stirring focusing angering judging stalling lactating\n",
            "    hankerin' alleging veering capping approaching traveling besieging\n",
            "    encrypting interrupting erasing wincing ...\n",
            "VBN: verb, past participle\n",
            "    multihulled dilapidated aerosolized chaired languished panelized used\n",
            "    experimented flourished imitated reunifed factored condensed sheared\n",
            "    unsettled primed dubbed desired ...\n",
            "VBP: verb, present tense, not 3rd person singular\n",
            "    predominate wrap resort sue twist spill cure lengthen brush terminate\n",
            "    appear tend stray glisten obtain comprise detest tease attract\n",
            "    emphasize mold postpone sever return wag ...\n",
            "VBZ: verb, present tense, 3rd person singular\n",
            "    bases reconstructs marks mixes displeases seals carps weaves snatches\n",
            "    slumps stretches authorizes smolders pictures emerges stockpiles\n",
            "    seduces fizzes uses bolsters slaps speaks pleads ...\n",
            "WDT: WH-determiner\n",
            "    that what whatever which whichever\n",
            "WP: WH-pronoun\n",
            "    that what whatever whatsoever which who whom whosoever\n",
            "WP$: WH-pronoun, possessive\n",
            "    whose\n",
            "WRB: Wh-adverb\n",
            "    how however whence whenever where whereby whereever wherein whereof why\n",
            "``: opening quotation mark\n",
            "    ` ``\n"
          ]
        },
        {
          "output_type": "stream",
          "name": "stderr",
          "text": [
            "[nltk_data] Downloading package tagsets to /root/nltk_data...\n",
            "[nltk_data]   Unzipping help/tagsets.zip.\n"
          ]
        }
      ]
    },
    {
      "cell_type": "code",
      "source": [
        "import spacy\n",
        "from spacy.glossary import GLOSSARY\n",
        "\n",
        "lookup_dict = GLOSSARY\n",
        "print(lookup_dict)"
      ],
      "metadata": {
        "colab": {
          "base_uri": "https://localhost:8080/"
        },
        "id": "MsR1svGoWyng",
        "outputId": "ee728b61-f7cf-4749-81f0-15ed18eae918"
      },
      "execution_count": null,
      "outputs": [
        {
          "output_type": "stream",
          "name": "stdout",
          "text": [
            "{'ADJ': 'adjective', 'ADP': 'adposition', 'ADV': 'adverb', 'AUX': 'auxiliary', 'CONJ': 'conjunction', 'CCONJ': 'coordinating conjunction', 'DET': 'determiner', 'INTJ': 'interjection', 'NOUN': 'noun', 'NUM': 'numeral', 'PART': 'particle', 'PRON': 'pronoun', 'PROPN': 'proper noun', 'PUNCT': 'punctuation', 'SCONJ': 'subordinating conjunction', 'SYM': 'symbol', 'VERB': 'verb', 'X': 'other', 'EOL': 'end of line', 'SPACE': 'space', '.': 'punctuation mark, sentence closer', ',': 'punctuation mark, comma', '-LRB-': 'left round bracket', '-RRB-': 'right round bracket', '``': 'opening quotation mark', '\"\"': 'closing quotation mark', \"''\": 'closing quotation mark', ':': 'punctuation mark, colon or ellipsis', '$': 'symbol, currency', '#': 'symbol, number sign', 'AFX': 'affix', 'CC': 'conjunction, coordinating', 'CD': 'cardinal number', 'DT': 'determiner', 'EX': 'existential there', 'FW': 'foreign word', 'HYPH': 'punctuation mark, hyphen', 'IN': 'conjunction, subordinating or preposition', 'JJ': 'adjective (English), other noun-modifier (Chinese)', 'JJR': 'adjective, comparative', 'JJS': 'adjective, superlative', 'LS': 'list item marker', 'MD': 'verb, modal auxiliary', 'NIL': 'missing tag', 'NN': 'noun, singular or mass', 'NNP': 'noun, proper singular', 'NNPS': 'noun, proper plural', 'NNS': 'noun, plural', 'PDT': 'predeterminer', 'POS': 'possessive ending', 'PRP': 'pronoun, personal', 'PRP$': 'pronoun, possessive', 'RB': 'adverb', 'RBR': 'adverb, comparative', 'RBS': 'adverb, superlative', 'RP': 'adverb, particle', 'TO': 'infinitival \"to\"', 'UH': 'interjection', 'VB': 'verb, base form', 'VBD': 'verb, past tense', 'VBG': 'verb, gerund or present participle', 'VBN': 'verb, past participle', 'VBP': 'verb, non-3rd person singular present', 'VBZ': 'verb, 3rd person singular present', 'WDT': 'wh-determiner', 'WP': 'wh-pronoun, personal', 'WP$': 'wh-pronoun, possessive', 'WRB': 'wh-adverb', 'SP': 'space (English), sentence-final particle (Chinese)', 'ADD': 'email', 'NFP': 'superfluous punctuation', 'GW': 'additional word in multi-word expression', 'XX': 'unknown', 'BES': 'auxiliary \"be\"', 'HVS': 'forms of \"have\"', '_SP': 'whitespace', '$(': 'other sentence-internal punctuation mark', '$,': 'comma', '$.': 'sentence-final punctuation mark', 'ADJA': 'adjective, attributive', 'ADJD': 'adjective, adverbial or predicative', 'APPO': 'postposition', 'APPR': 'preposition; circumposition left', 'APPRART': 'preposition with article', 'APZR': 'circumposition right', 'ART': 'definite or indefinite article', 'CARD': 'cardinal number', 'FM': 'foreign language material', 'ITJ': 'interjection', 'KOKOM': 'comparative conjunction', 'KON': 'coordinate conjunction', 'KOUI': 'subordinate conjunction with \"zu\" and infinitive', 'KOUS': 'subordinate conjunction with sentence', 'NE': 'proper noun', 'NNE': 'proper noun', 'PAV': 'pronominal adverb', 'PROAV': 'pronominal adverb', 'PDAT': 'attributive demonstrative pronoun', 'PDS': 'substituting demonstrative pronoun', 'PIAT': 'attributive indefinite pronoun without determiner', 'PIDAT': 'attributive indefinite pronoun with determiner', 'PIS': 'substituting indefinite pronoun', 'PPER': 'non-reflexive personal pronoun', 'PPOSAT': 'attributive possessive pronoun', 'PPOSS': 'substituting possessive pronoun', 'PRELAT': 'attributive relative pronoun', 'PRELS': 'substituting relative pronoun', 'PRF': 'reflexive personal pronoun', 'PTKA': 'particle with adjective or adverb', 'PTKANT': 'answer particle', 'PTKNEG': 'negative particle', 'PTKVZ': 'separable verbal particle', 'PTKZU': '\"zu\" before infinitive', 'PWAT': 'attributive interrogative pronoun', 'PWAV': 'adverbial interrogative or relative pronoun', 'PWS': 'substituting interrogative pronoun', 'TRUNC': 'word remnant', 'VAFIN': 'finite verb, auxiliary', 'VAIMP': 'imperative, auxiliary', 'VAINF': 'infinitive, auxiliary', 'VAPP': 'perfect participle, auxiliary', 'VMFIN': 'finite verb, modal', 'VMINF': 'infinitive, modal', 'VMPP': 'perfect participle, modal', 'VVFIN': 'finite verb, full', 'VVIMP': 'imperative, full', 'VVINF': 'infinitive, full', 'VVIZU': 'infinitive with \"zu\", full', 'VVPP': 'perfect participle, full', 'XY': 'non-word containing non-letter', 'AD': 'adverb', 'AS': 'aspect marker', 'BA': '把 in ba-construction', 'CS': 'subordinating conjunction', 'DEC': '的 in a relative clause', 'DEG': 'associative 的', 'DER': '得 in V-de const. and V-de-R', 'DEV': '地 before VP', 'ETC': 'for words 等, 等等', 'IJ': 'interjection', 'LB': '被 in long bei-const', 'LC': 'localizer', 'M': 'measure word', 'MSP': 'other particle', 'NR': 'proper noun', 'NT': 'temporal noun', 'OD': 'ordinal number', 'ON': 'onomatopoeia', 'P': 'preposition excluding 把 and 被', 'PN': 'pronoun', 'PU': 'punctuation', 'SB': '被 in short bei-const', 'VA': 'predicative adjective', 'VC': '是 (copula)', 'VE': '有 as the main verb', 'VV': 'other verb', 'NP': 'noun phrase', 'PP': 'prepositional phrase', 'VP': 'verb phrase', 'ADVP': 'adverb phrase', 'ADJP': 'adjective phrase', 'SBAR': 'subordinating conjunction', 'PRT': 'particle', 'PNP': 'prepositional noun phrase', 'acl': 'clausal modifier of noun (adjectival clause)', 'acomp': 'adjectival complement', 'advcl': 'adverbial clause modifier', 'advmod': 'adverbial modifier', 'agent': 'agent', 'amod': 'adjectival modifier', 'appos': 'appositional modifier', 'attr': 'attribute', 'aux': 'auxiliary', 'auxpass': 'auxiliary (passive)', 'case': 'case marking', 'cc': 'coordinating conjunction', 'ccomp': 'clausal complement', 'clf': 'classifier', 'complm': 'complementizer', 'compound': 'compound', 'conj': 'conjunct', 'cop': 'copula', 'csubj': 'clausal subject', 'csubjpass': 'clausal subject (passive)', 'dative': 'dative', 'dep': 'unclassified dependent', 'det': 'determiner', 'discourse': 'discourse element', 'dislocated': 'dislocated elements', 'dobj': 'direct object', 'expl': 'expletive', 'fixed': 'fixed multiword expression', 'flat': 'flat multiword expression', 'goeswith': 'goes with', 'hmod': 'modifier in hyphenation', 'hyph': 'hyphen', 'infmod': 'infinitival modifier', 'intj': 'interjection', 'iobj': 'indirect object', 'list': 'list', 'mark': 'marker', 'meta': 'meta modifier', 'neg': 'negation modifier', 'nmod': 'modifier of nominal', 'nn': 'noun compound modifier', 'npadvmod': 'noun phrase as adverbial modifier', 'nsubj': 'nominal subject', 'nsubjpass': 'nominal subject (passive)', 'nounmod': 'modifier of nominal', 'npmod': 'noun phrase as adverbial modifier', 'num': 'number modifier', 'number': 'number compound modifier', 'nummod': 'numeric modifier', 'oprd': 'object predicate', 'obj': 'object', 'obl': 'oblique nominal', 'orphan': 'orphan', 'parataxis': 'parataxis', 'partmod': 'participal modifier', 'pcomp': 'complement of preposition', 'pobj': 'object of preposition', 'poss': 'possession modifier', 'possessive': 'possessive modifier', 'preconj': 'pre-correlative conjunction', 'prep': 'prepositional modifier', 'prt': 'particle', 'punct': 'punctuation', 'quantmod': 'modifier of quantifier', 'rcmod': 'relative clause modifier', 'relcl': 'relative clause modifier', 'reparandum': 'overridden disfluency', 'root': 'root', 'ROOT': 'root', 'vocative': 'vocative', 'xcomp': 'open clausal complement', 'ac': 'adpositional case marker', 'adc': 'adjective component', 'ag': 'genitive attribute', 'ams': 'measure argument of adjective', 'app': 'apposition', 'avc': 'adverbial phrase component', 'cd': 'coordinating conjunction', 'cj': 'conjunct', 'cm': 'comparative conjunction', 'cp': 'complementizer', 'cvc': 'collocational verb construction', 'da': 'dative', 'dh': 'discourse-level head', 'dm': 'discourse marker', 'ep': 'expletive es', 'hd': 'head', 'ju': 'junctor', 'mnr': 'postnominal modifier', 'mo': 'modifier', 'ng': 'negation', 'nk': 'noun kernel element', 'nmc': 'numerical component', 'oa': 'accusative object', 'oc': 'clausal object', 'og': 'genitive object', 'op': 'prepositional object', 'par': 'parenthetical element', 'pd': 'predicate', 'pg': 'phrasal genitive', 'ph': 'placeholder', 'pm': 'morphological particle', 'pnc': 'proper noun component', 'rc': 'relative clause', 're': 'repeated element', 'rs': 'reported speech', 'sb': 'subject', 'sbp': 'passivized subject (PP)', 'sp': 'subject or predicate', 'svp': 'separable verb prefix', 'uc': 'unit component', 'vo': 'vocative', 'PERSON': 'People, including fictional', 'NORP': 'Nationalities or religious or political groups', 'FACILITY': 'Buildings, airports, highways, bridges, etc.', 'FAC': 'Buildings, airports, highways, bridges, etc.', 'ORG': 'Companies, agencies, institutions, etc.', 'GPE': 'Countries, cities, states', 'LOC': 'Non-GPE locations, mountain ranges, bodies of water', 'PRODUCT': 'Objects, vehicles, foods, etc. (not services)', 'EVENT': 'Named hurricanes, battles, wars, sports events, etc.', 'WORK_OF_ART': 'Titles of books, songs, etc.', 'LAW': 'Named documents made into laws.', 'LANGUAGE': 'Any named language', 'DATE': 'Absolute or relative dates or periods', 'TIME': 'Times smaller than a day', 'PERCENT': 'Percentage, including \"%\"', 'MONEY': 'Monetary values, including unit', 'QUANTITY': 'Measurements, as of weight or distance', 'ORDINAL': '\"first\", \"second\", etc.', 'CARDINAL': 'Numerals that do not fall under another type', 'PER': 'Named person or family.', 'MISC': 'Miscellaneous entities, e.g. events, nationalities, products or works of art', 'EVT': 'Festivals, cultural events, sports events, weather phenomena, wars, etc.', 'PROD': 'Product, i.e. artificially produced entities including speeches, radio shows, programming languages, contracts, laws and ideas', 'DRV': \"Words (and phrases?) that are dervied from a name, but not a name in themselves, e.g. 'Oslo-mannen' ('the man from Oslo')\", 'GPE_LOC': \"Geo-political entity, with a locative sense, e.g. 'John lives in Spain'\", 'GPE_ORG': \"Geo-political entity, with an organisation sense, e.g. 'Spain declined to meet with Belgium'\"}\n"
          ]
        }
      ]
    }
  ]
}