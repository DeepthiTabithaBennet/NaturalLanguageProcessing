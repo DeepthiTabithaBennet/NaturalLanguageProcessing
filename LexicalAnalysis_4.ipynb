{
  "nbformat": 4,
  "nbformat_minor": 0,
  "metadata": {
    "colab": {
      "provenance": [],
      "authorship_tag": "ABX9TyMPffxEWV50wxR1H9izE+9l",
      "include_colab_link": true
    },
    "kernelspec": {
      "name": "python3",
      "display_name": "Python 3"
    },
    "language_info": {
      "name": "python"
    }
  },
  "cells": [
    {
      "cell_type": "markdown",
      "metadata": {
        "id": "view-in-github",
        "colab_type": "text"
      },
      "source": [
        "<a href=\"https://colab.research.google.com/github/DeepthiTabithaBennet/NaturalLanguageProcessing/blob/main/LexicalAnalysis_4.ipynb\" target=\"_parent\"><img src=\"https://colab.research.google.com/assets/colab-badge.svg\" alt=\"Open In Colab\"/></a>"
      ]
    },
    {
      "cell_type": "code",
      "source": [
        "import nltk\n",
        "nltk.download('punkt')\n",
        "nltk.download('stopwords')\n",
        "nltk.download('wordnet')"
      ],
      "metadata": {
        "colab": {
          "base_uri": "https://localhost:8080/"
        },
        "id": "EJoOdWJLFPe_",
        "outputId": "8e2778ab-2f17-415c-c879-6d5983dc2aef"
      },
      "execution_count": null,
      "outputs": [
        {
          "output_type": "stream",
          "name": "stderr",
          "text": [
            "[nltk_data] Downloading package punkt to /root/nltk_data...\n",
            "[nltk_data]   Package punkt is already up-to-date!\n",
            "[nltk_data] Downloading package stopwords to /root/nltk_data...\n",
            "[nltk_data]   Package stopwords is already up-to-date!\n",
            "[nltk_data] Downloading package wordnet to /root/nltk_data...\n",
            "[nltk_data]   Package wordnet is already up-to-date!\n"
          ]
        },
        {
          "output_type": "execute_result",
          "data": {
            "text/plain": [
              "True"
            ]
          },
          "metadata": {},
          "execution_count": 6
        }
      ]
    },
    {
      "cell_type": "code",
      "source": [
        "! pip install pyspellchecker\n",
        "! pip install textblob"
      ],
      "metadata": {
        "colab": {
          "base_uri": "https://localhost:8080/"
        },
        "id": "WVkzCgjrODZM",
        "outputId": "546f3185-d293-4338-aea1-0154bac42bac"
      },
      "execution_count": null,
      "outputs": [
        {
          "output_type": "stream",
          "name": "stdout",
          "text": [
            "Requirement already satisfied: pyspellchecker in /usr/local/lib/python3.10/dist-packages (0.8.1)\n",
            "Requirement already satisfied: textblob in /usr/local/lib/python3.10/dist-packages (0.17.1)\n",
            "Requirement already satisfied: nltk>=3.1 in /usr/local/lib/python3.10/dist-packages (from textblob) (3.8.1)\n",
            "Requirement already satisfied: click in /usr/local/lib/python3.10/dist-packages (from nltk>=3.1->textblob) (8.1.7)\n",
            "Requirement already satisfied: joblib in /usr/local/lib/python3.10/dist-packages (from nltk>=3.1->textblob) (1.4.2)\n",
            "Requirement already satisfied: regex>=2021.8.3 in /usr/local/lib/python3.10/dist-packages (from nltk>=3.1->textblob) (2024.9.11)\n",
            "Requirement already satisfied: tqdm in /usr/local/lib/python3.10/dist-packages (from nltk>=3.1->textblob) (4.66.5)\n"
          ]
        }
      ]
    },
    {
      "cell_type": "code",
      "source": [
        "import re\n",
        "import string\n",
        "from collections import Counter\n",
        "\n",
        "import nltk\n",
        "from nltk.tokenize import sent_tokenize, word_tokenize\n",
        "from nltk.corpus import stopwords\n",
        "from nltk.stem import PorterStemmer, WordNetLemmatizer\n",
        "from spellchecker import SpellChecker\n",
        "\n",
        "from textblob import TextBlob\n",
        "import spacy"
      ],
      "metadata": {
        "id": "xahwtPpnOKfj"
      },
      "execution_count": null,
      "outputs": []
    },
    {
      "cell_type": "code",
      "source": [
        "# Function to tokenize text into words\n",
        "def tokenize_words(text):\n",
        "    return word_tokenize(text)"
      ],
      "metadata": {
        "id": "IcHmA-1UOQoc"
      },
      "execution_count": null,
      "outputs": []
    },
    {
      "cell_type": "code",
      "source": [
        "# Function to perform stemming and lemmatization\n",
        "def stem_and_lemmatize(text):\n",
        "    words = tokenize_words(text.lower())\n",
        "\n",
        "    porter = PorterStemmer()\n",
        "    stemmed_words = [porter.stem(word) for word in words]\n",
        "\n",
        "    lemmatizer = WordNetLemmatizer()\n",
        "    lemmatized_words = [lemmatizer.lemmatize(word) for word in words]\n",
        "\n",
        "    return stemmed_words, lemmatized_words"
      ],
      "metadata": {
        "id": "4RKAU2U4OWi7"
      },
      "execution_count": null,
      "outputs": []
    },
    {
      "cell_type": "code",
      "source": [
        "text = \"Hello, Deepthi Tabitha here! Yoou caen call me Deepthi. How are you doing? I hav 2 cats andd they're vry cute! Mmy e-mail is deepthitabitha@student.tce.edu\"\n",
        "print(\"Original Text :\\n\", text)\n",
        "\n",
        "# d) Perform stemming and lemmatization on text\n",
        "task_d1, task_d2 = stem_and_lemmatize(text)\n",
        "print(\"\\nStemmed words:\")\n",
        "print(task_d1)\n",
        "print(\"\\nLemmatized words:\")\n",
        "print(task_d2)"
      ],
      "metadata": {
        "colab": {
          "base_uri": "https://localhost:8080/"
        },
        "id": "EBTMqs-MLzwb",
        "outputId": "9bb0b387-45d4-4270-9051-136ca17c9ecc"
      },
      "execution_count": null,
      "outputs": [
        {
          "output_type": "stream",
          "name": "stdout",
          "text": [
            "Original Text :\n",
            " Hello, Deepthi Tabitha here! Yoou caen call me Deepthi. How are you doing? I hav 2 cats andd they're vry cute! Mmy e-mail is deepthitabitha@student.tce.edu\n",
            "\n",
            "Stemmed words:\n",
            "['hello', ',', 'deepthi', 'tabitha', 'here', '!', 'yoou', 'caen', 'call', 'me', 'deepthi', '.', 'how', 'are', 'you', 'do', '?', 'i', 'hav', '2', 'cat', 'andd', 'they', \"'re\", 'vri', 'cute', '!', 'mmi', 'e-mail', 'is', 'deepthitabitha', '@', 'student.tce.edu']\n",
            "\n",
            "Lemmatized words:\n",
            "['hello', ',', 'deepthi', 'tabitha', 'here', '!', 'yoou', 'caen', 'call', 'me', 'deepthi', '.', 'how', 'are', 'you', 'doing', '?', 'i', 'hav', '2', 'cat', 'andd', 'they', \"'re\", 'vry', 'cute', '!', 'mmy', 'e-mail', 'is', 'deepthitabitha', '@', 'student.tce.edu']\n"
          ]
        }
      ]
    }
  ]
}