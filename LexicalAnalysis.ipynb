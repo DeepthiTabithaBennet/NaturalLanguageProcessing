{
  "nbformat": 4,
  "nbformat_minor": 0,
  "metadata": {
    "colab": {
      "provenance": [],
      "authorship_tag": "ABX9TyNKBWp7Tq2qCrx5KqvMZyea",
      "include_colab_link": true
    },
    "kernelspec": {
      "name": "python3",
      "display_name": "Python 3"
    },
    "language_info": {
      "name": "python"
    }
  },
  "cells": [
    {
      "cell_type": "markdown",
      "metadata": {
        "id": "view-in-github",
        "colab_type": "text"
      },
      "source": [
        "<a href=\"https://colab.research.google.com/github/DeepthiTabithaBennet/NaturalLanguageProcessing/blob/main/NLP_LexicalAnalysis.ipynb\" target=\"_parent\"><img src=\"https://colab.research.google.com/assets/colab-badge.svg\" alt=\"Open In Colab\"/></a>"
      ]
    },
    {
      "cell_type": "code",
      "source": [
        "# Write a python program with functions to\n",
        "# a) remove punctuations, special symbols, numbers using regular\n",
        "# expression\n",
        "# b) Tokenize the given text (Tokenizing the text into sentences)\n",
        "# c) Add Custom Stopwords and List Removed Stopwords\n",
        "# d) Perform stemming and lemmatization on text\n",
        "# e) Extract the usernames from the email addresses present\n",
        "# f) Find the most common words in the text to exclude as stopwords\n",
        "# g) Write a program to Correct the spelling errors using textblob\n",
        "\n",
        "# you may use nltk, spacy or textblob"
      ],
      "metadata": {
        "id": "PN87u1y5Ik9O"
      },
      "execution_count": null,
      "outputs": []
    },
    {
      "cell_type": "code",
      "source": [
        "import nltk\n",
        "nltk.download('punkt')\n",
        "nltk.download('stopwords')\n",
        "nltk.download('wordnet')"
      ],
      "metadata": {
        "colab": {
          "base_uri": "https://localhost:8080/"
        },
        "id": "EJoOdWJLFPe_",
        "outputId": "ff2cf0d6-8239-4be2-8137-08aa9ba97c5f"
      },
      "execution_count": null,
      "outputs": [
        {
          "output_type": "stream",
          "name": "stderr",
          "text": [
            "[nltk_data] Downloading package punkt to /root/nltk_data...\n",
            "[nltk_data]   Package punkt is already up-to-date!\n",
            "[nltk_data] Downloading package stopwords to /root/nltk_data...\n",
            "[nltk_data]   Package stopwords is already up-to-date!\n",
            "[nltk_data] Downloading package wordnet to /root/nltk_data...\n",
            "[nltk_data]   Package wordnet is already up-to-date!\n"
          ]
        },
        {
          "output_type": "execute_result",
          "data": {
            "text/plain": [
              "True"
            ]
          },
          "metadata": {},
          "execution_count": 68
        }
      ]
    },
    {
      "cell_type": "code",
      "source": [
        "! pip install pyspellchecker\n",
        "! pip install textblob"
      ],
      "metadata": {
        "colab": {
          "base_uri": "https://localhost:8080/"
        },
        "id": "WVkzCgjrODZM",
        "outputId": "8d3bee34-d587-4e20-f587-e27c0603d35c"
      },
      "execution_count": null,
      "outputs": [
        {
          "output_type": "stream",
          "name": "stdout",
          "text": [
            "Requirement already satisfied: pyspellchecker in /usr/local/lib/python3.10/dist-packages (0.8.1)\n",
            "Requirement already satisfied: textblob in /usr/local/lib/python3.10/dist-packages (0.17.1)\n",
            "Requirement already satisfied: nltk>=3.1 in /usr/local/lib/python3.10/dist-packages (from textblob) (3.8.1)\n",
            "Requirement already satisfied: click in /usr/local/lib/python3.10/dist-packages (from nltk>=3.1->textblob) (8.1.7)\n",
            "Requirement already satisfied: joblib in /usr/local/lib/python3.10/dist-packages (from nltk>=3.1->textblob) (1.4.2)\n",
            "Requirement already satisfied: regex>=2021.8.3 in /usr/local/lib/python3.10/dist-packages (from nltk>=3.1->textblob) (2024.9.11)\n",
            "Requirement already satisfied: tqdm in /usr/local/lib/python3.10/dist-packages (from nltk>=3.1->textblob) (4.66.5)\n"
          ]
        }
      ]
    },
    {
      "cell_type": "code",
      "source": [
        "import re\n",
        "import string\n",
        "from collections import Counter\n",
        "\n",
        "import nltk\n",
        "from nltk.tokenize import sent_tokenize, word_tokenize\n",
        "from nltk.corpus import stopwords\n",
        "from nltk.stem import PorterStemmer, WordNetLemmatizer\n",
        "from spellchecker import SpellChecker\n",
        "\n",
        "from textblob import TextBlob\n",
        "import spacy"
      ],
      "metadata": {
        "id": "xahwtPpnOKfj"
      },
      "execution_count": null,
      "outputs": []
    },
    {
      "cell_type": "code",
      "source": [
        "# Function to remove punctuations, special symbols, and numbers using regex\n",
        "def remove_non_alpha(text):\n",
        "    return re.sub(r'[^a-zA-Z\\s]', '', text)"
      ],
      "metadata": {
        "id": "aUpSnaICOQjC"
      },
      "execution_count": null,
      "outputs": []
    },
    {
      "cell_type": "code",
      "source": [
        "# Function to tokenize text into sentences\n",
        "def tokenize_sentences(text):\n",
        "    return sent_tokenize(text)"
      ],
      "metadata": {
        "id": "61Mk1EPoOQlu"
      },
      "execution_count": null,
      "outputs": []
    },
    {
      "cell_type": "code",
      "source": [
        "# Function to tokenize text into words\n",
        "def tokenize_words(text):\n",
        "    return word_tokenize(text)"
      ],
      "metadata": {
        "id": "IcHmA-1UOQoc"
      },
      "execution_count": null,
      "outputs": []
    },
    {
      "cell_type": "code",
      "source": [
        "# Function to add custom stopwords\n",
        "def add_custom_stopwords(stopwords_list, custom_stopwords):\n",
        "    stopwords_list.extend(custom_stopwords)"
      ],
      "metadata": {
        "id": "T2RRpJcIOQr5"
      },
      "execution_count": null,
      "outputs": []
    },
    {
      "cell_type": "code",
      "source": [
        "# Function to list removed stopwords\n",
        "def list_removed_stopwords(text, stopwords_list):\n",
        "    words = tokenize_words(text.lower())\n",
        "    removed_stopwords = [word for word in words if word not in stopwords_list]\n",
        "    return removed_stopwords"
      ],
      "metadata": {
        "id": "QRMODXbPOWgT"
      },
      "execution_count": null,
      "outputs": []
    },
    {
      "cell_type": "code",
      "source": [
        "# Function to perform stemming and lemmatization\n",
        "def stem_and_lemmatize(text):\n",
        "    words = tokenize_words(text.lower())\n",
        "\n",
        "    porter = PorterStemmer()\n",
        "    stemmed_words = [porter.stem(word) for word in words]\n",
        "\n",
        "    lemmatizer = WordNetLemmatizer()\n",
        "    lemmatized_words = [lemmatizer.lemmatize(word) for word in words]\n",
        "\n",
        "    return stemmed_words, lemmatized_words"
      ],
      "metadata": {
        "id": "4RKAU2U4OWi7"
      },
      "execution_count": null,
      "outputs": []
    },
    {
      "cell_type": "code",
      "source": [
        " # Function to extract usernames from email addresses\n",
        "def extract_usernames(email_addresses):\n",
        "    usernames = []\n",
        "\n",
        "    for email in email_addresses:\n",
        "        username = re.search(r'([a-zA-Z0-9._%+-]+)@([a-zA-Z0-9.-]+\\.[a-zA-Z]{2,})', email)\n",
        "        if username:\n",
        "            usernames.append(username.group(1))\n",
        "\n",
        "    return usernames"
      ],
      "metadata": {
        "id": "JkwjPmqfOWlS"
      },
      "execution_count": null,
      "outputs": []
    },
    {
      "cell_type": "code",
      "source": [
        "# Function to find most common words in the text\n",
        "def find_most_common_words(text, num_words):\n",
        "    words = tokenize_words(text.lower())\n",
        "    word_counts = Counter(words)\n",
        "    return word_counts.most_common(num_words)"
      ],
      "metadata": {
        "id": "1oc5DFbPOWom"
      },
      "execution_count": null,
      "outputs": []
    },
    {
      "cell_type": "code",
      "source": [
        "# Function to correct spelling errors using TextBlob\n",
        "def correct_spelling(text):\n",
        "    blob = TextBlob(text)\n",
        "    return str(blob.correct())"
      ],
      "metadata": {
        "id": "WSo6ohZPOkIu"
      },
      "execution_count": null,
      "outputs": []
    },
    {
      "cell_type": "code",
      "source": [
        "text = \"Hello, Deepthi Tabitha here! Yoou caen call me Deepthi. How are you doing? I hav 2 cats andd they're vry cute! Mmy e-mail is deepthitabitha@student.tce.edu\"\n",
        "print(\"Original Text :\\n\", text)\n",
        "\n",
        "# a) Remove punctuations, special symbols, and numbers\n",
        "task_a = remove_non_alpha(text)\n",
        "print(\"\\nText after removing punctuations, special symbols, and numbers:\")\n",
        "print(task_a)\n",
        "\n",
        "# b) Tokenize the given text into sentences\n",
        "task_b = tokenize_sentences(text)\n",
        "print(\"\\nTokenized sentences:\")\n",
        "print(task_b)\n",
        "\n",
        "# c) Add Custom Stopwords and List Removed Stopwords\n",
        "custom_stopwords = ['example', 'contains', 'like']\n",
        "nltk_stopwords = stopwords.words('english')\n",
        "add_custom_stopwords(nltk_stopwords, custom_stopwords)\n",
        "task_c = list_removed_stopwords(text, nltk_stopwords)\n",
        "print(\"\\nList of removed stopwords:\")\n",
        "print(task_c)\n",
        "\n",
        "# d) Perform stemming and lemmatization on text\n",
        "task_d1, task_d2 = stem_and_lemmatize(text)\n",
        "print(\"\\nStemmed words:\")\n",
        "print(task_d1)\n",
        "print(\"\\nLemmatized words:\")\n",
        "print(task_d2)\n",
        "\n",
        "# e) Extract the usernames from the email addresses present\n",
        "email_addresses = re.findall(r'\\w+@\\w+\\.\\w+', text)      # longer version  \\b[\\w.-]+?@\\w+?\\.\\w{2,4}\\b\n",
        "task_e = extract_usernames(email_addresses)\n",
        "print(\"\\nExtracted usernames:\")\n",
        "print(task_e)\n",
        "\n",
        "# f) Find the most common words in the text to exclude as stopwords\n",
        "task_f = find_most_common_words(task_a, 3)\n",
        "print(\"\\nMost common words in the text:\")\n",
        "print(task_f)\n",
        "\n",
        "# g) Correct the spelling errors using TextBlob\n",
        "task_g = correct_spelling(text)\n",
        "print(\"\\nText after spelling correction:\")\n",
        "print(task_g)"
      ],
      "metadata": {
        "colab": {
          "base_uri": "https://localhost:8080/"
        },
        "id": "EBTMqs-MLzwb",
        "outputId": "0808884d-3619-4ebc-baef-a570fb531b9a"
      },
      "execution_count": null,
      "outputs": [
        {
          "output_type": "stream",
          "name": "stdout",
          "text": [
            "Original Text :\n",
            " Hello, Deepthi Tabitha here! Yoou caen call me Deepthi. How are you doing? I hav 2 cats andd they're vry cute! Mmy e-mail is deepthitabitha@student.tce.edu\n",
            "\n",
            "Text after removing punctuations, special symbols, and numbers:\n",
            "Hello Deepthi Tabitha here Yoou caen call me Deepthi How are you doing I hav  cats andd theyre vry cute Mmy email is deepthitabithastudenttceedu\n",
            "\n",
            "Tokenized sentences:\n",
            "['Hello, Deepthi Tabitha here!', 'Yoou caen call me Deepthi.', 'How are you doing?', \"I hav 2 cats andd they're vry cute!\", 'Mmy e-mail is deepthitabitha@student.tce.edu']\n",
            "\n",
            "List of removed stopwords:\n",
            "['hello', ',', 'deepthi', 'tabitha', '!', 'yoou', 'caen', 'call', 'deepthi', '.', '?', 'hav', '2', 'cats', 'andd', \"'re\", 'vry', 'cute', '!', 'mmy', 'e-mail', 'deepthitabitha', '@', 'student.tce.edu']\n",
            "\n",
            "Stemmed words:\n",
            "['hello', ',', 'deepthi', 'tabitha', 'here', '!', 'yoou', 'caen', 'call', 'me', 'deepthi', '.', 'how', 'are', 'you', 'do', '?', 'i', 'hav', '2', 'cat', 'andd', 'they', \"'re\", 'vri', 'cute', '!', 'mmi', 'e-mail', 'is', 'deepthitabitha', '@', 'student.tce.edu']\n",
            "\n",
            "Lemmatized words:\n",
            "['hello', ',', 'deepthi', 'tabitha', 'here', '!', 'yoou', 'caen', 'call', 'me', 'deepthi', '.', 'how', 'are', 'you', 'doing', '?', 'i', 'hav', '2', 'cat', 'andd', 'they', \"'re\", 'vry', 'cute', '!', 'mmy', 'e-mail', 'is', 'deepthitabitha', '@', 'student.tce.edu']\n",
            "\n",
            "Extracted usernames:\n",
            "['deepthitabitha']\n",
            "\n",
            "Most common words in the text:\n",
            "[('deepthi', 2), ('hello', 1), ('tabitha', 1)]\n",
            "\n",
            "Text after spelling correction:\n",
            "Hello, Deepthi Tabitha here! You can call me Deepthi. Now are you doing? I had 2 cats and they're very cut! My e-mail is deepthitabitha@student.the.ed\n"
          ]
        }
      ]
    }
  ]
}
