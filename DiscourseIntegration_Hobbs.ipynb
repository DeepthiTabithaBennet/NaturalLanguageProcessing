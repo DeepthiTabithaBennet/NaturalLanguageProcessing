{
  "nbformat": 4,
  "nbformat_minor": 0,
  "metadata": {
    "colab": {
      "provenance": [],
      "authorship_tag": "ABX9TyOzXfhk1l7fG4d4re/mzILP",
      "include_colab_link": true
    },
    "kernelspec": {
      "name": "python3",
      "display_name": "Python 3"
    },
    "language_info": {
      "name": "python"
    }
  },
  "cells": [
    {
      "cell_type": "markdown",
      "metadata": {
        "id": "view-in-github",
        "colab_type": "text"
      },
      "source": [
        "<a href=\"https://colab.research.google.com/github/DeepthiTabithaBennet/NaturalLanguageProcessing/blob/main/DiscourseIntegration_Hobbs.ipynb\" target=\"_parent\"><img src=\"https://colab.research.google.com/assets/colab-badge.svg\" alt=\"Open In Colab\"/></a>"
      ]
    },
    {
      "cell_type": "code",
      "source": [
        "def split_sentences(text):\n",
        "    # Simple sentence splitter based on periods and question marks\n",
        "    sentences = text.split('. ')\n",
        "    sentences = [s.split('? ')[0] for s in sentences]\n",
        "    return [s.strip() + '.' for s in sentences if s]\n",
        "\n",
        "def extract_antecedents(sentences):\n",
        "    # Extract proper nouns or noun phrases as antecedents\n",
        "    antecedents = []\n",
        "    for sentence in sentences:\n",
        "        words = sentence.split()\n",
        "        for word in words:\n",
        "            # Consider words with initial capital letters as potential antecedents\n",
        "            if word[0].isupper() and word.lower() not in ['he', 'she', 'it', 'they', 'him', 'her']:\n",
        "                antecedents.append(word)\n",
        "    return antecedents\n",
        "\n",
        "def resolve_references(sentences, antecedents):\n",
        "    # Resolve pronouns using extracted antecedents\n",
        "    resolved = []\n",
        "    antecedent_idx = len(antecedents) - 1\n",
        "    for sentence in sentences:\n",
        "        words = sentence.split()\n",
        "        for word in words:\n",
        "            # Basic pronouns\n",
        "            if word.lower() in ['he', 'she', 'it', 'they', 'him', 'her']:\n",
        "                # Resolve the most recent antecedent\n",
        "                if antecedent_idx >= 0:\n",
        "                    resolved.append((word, antecedents[antecedent_idx]))\n",
        "            elif word[0].isupper() and word.lower() not in ['he', 'she', 'it', 'they', 'him', 'her']:\n",
        "                # Update the most recent antecedent\n",
        "                antecedents.append(word)\n",
        "                antecedent_idx = len(antecedents) - 1\n",
        "    return resolved\n",
        "\n",
        "# Example usage\n",
        "text = \"John went to the shop. He met Alice there. She greeted him.\"\n",
        "sentences = split_sentences(text)\n",
        "antecedents = extract_antecedents(sentences)\n",
        "resolved_references = resolve_references(sentences, antecedents)\n",
        "\n",
        "print(\"Resolved References:\")\n",
        "for ref, referent in resolved_references:\n",
        "    print(f\"{ref} -> {referent}\")"
      ],
      "metadata": {
        "colab": {
          "base_uri": "https://localhost:8080/"
        },
        "id": "4Jf3pshNmsmL",
        "outputId": "a343c8ab-62d3-4d31-823e-2605442fdbb5"
      },
      "execution_count": null,
      "outputs": [
        {
          "output_type": "stream",
          "name": "stdout",
          "text": [
            "Resolved References:\n",
            "He -> John\n",
            "She -> Alice\n"
          ]
        }
      ]
    }
  ]
}