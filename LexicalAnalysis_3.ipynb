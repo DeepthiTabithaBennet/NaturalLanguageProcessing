{
  "nbformat": 4,
  "nbformat_minor": 0,
  "metadata": {
    "colab": {
      "provenance": [],
      "authorship_tag": "ABX9TyM1bi2xpNFE+LXED4etXWaM",
      "include_colab_link": true
    },
    "kernelspec": {
      "name": "python3",
      "display_name": "Python 3"
    },
    "language_info": {
      "name": "python"
    }
  },
  "cells": [
    {
      "cell_type": "markdown",
      "metadata": {
        "id": "view-in-github",
        "colab_type": "text"
      },
      "source": [
        "<a href=\"https://colab.research.google.com/github/DeepthiTabithaBennet/NaturalLanguageProcessing/blob/main/LexicalAnalysis_3.ipynb\" target=\"_parent\"><img src=\"https://colab.research.google.com/assets/colab-badge.svg\" alt=\"Open In Colab\"/></a>"
      ]
    },
    {
      "cell_type": "code",
      "source": [
        "import nltk\n",
        "nltk.download('punkt')\n",
        "nltk.download('stopwords')\n",
        "nltk.download('wordnet')"
      ],
      "metadata": {
        "colab": {
          "base_uri": "https://localhost:8080/"
        },
        "id": "EJoOdWJLFPe_",
        "outputId": "10e12fe0-ed51-456d-9280-024bb7ea8b71"
      },
      "execution_count": null,
      "outputs": [
        {
          "output_type": "stream",
          "name": "stderr",
          "text": [
            "[nltk_data] Downloading package punkt to /root/nltk_data...\n",
            "[nltk_data]   Package punkt is already up-to-date!\n",
            "[nltk_data] Downloading package stopwords to /root/nltk_data...\n",
            "[nltk_data]   Package stopwords is already up-to-date!\n",
            "[nltk_data] Downloading package wordnet to /root/nltk_data...\n",
            "[nltk_data]   Package wordnet is already up-to-date!\n"
          ]
        },
        {
          "output_type": "execute_result",
          "data": {
            "text/plain": [
              "True"
            ]
          },
          "metadata": {},
          "execution_count": 7
        }
      ]
    },
    {
      "cell_type": "code",
      "source": [
        "! pip install pyspellchecker\n",
        "! pip install textblob"
      ],
      "metadata": {
        "colab": {
          "base_uri": "https://localhost:8080/"
        },
        "id": "WVkzCgjrODZM",
        "outputId": "c4e1d081-ed4e-4324-aba7-cf24b9c2056e"
      },
      "execution_count": null,
      "outputs": [
        {
          "output_type": "stream",
          "name": "stdout",
          "text": [
            "Requirement already satisfied: pyspellchecker in /usr/local/lib/python3.10/dist-packages (0.8.1)\n",
            "Requirement already satisfied: textblob in /usr/local/lib/python3.10/dist-packages (0.17.1)\n",
            "Requirement already satisfied: nltk>=3.1 in /usr/local/lib/python3.10/dist-packages (from textblob) (3.8.1)\n",
            "Requirement already satisfied: click in /usr/local/lib/python3.10/dist-packages (from nltk>=3.1->textblob) (8.1.7)\n",
            "Requirement already satisfied: joblib in /usr/local/lib/python3.10/dist-packages (from nltk>=3.1->textblob) (1.4.2)\n",
            "Requirement already satisfied: regex>=2021.8.3 in /usr/local/lib/python3.10/dist-packages (from nltk>=3.1->textblob) (2024.9.11)\n",
            "Requirement already satisfied: tqdm in /usr/local/lib/python3.10/dist-packages (from nltk>=3.1->textblob) (4.66.5)\n"
          ]
        }
      ]
    },
    {
      "cell_type": "code",
      "source": [
        "import re\n",
        "import string\n",
        "from collections import Counter\n",
        "\n",
        "import nltk\n",
        "from nltk.tokenize import sent_tokenize, word_tokenize\n",
        "from nltk.corpus import stopwords\n",
        "from nltk.stem import PorterStemmer, WordNetLemmatizer\n",
        "from spellchecker import SpellChecker\n",
        "\n",
        "from textblob import TextBlob\n",
        "import spacy"
      ],
      "metadata": {
        "id": "xahwtPpnOKfj"
      },
      "execution_count": null,
      "outputs": []
    },
    {
      "cell_type": "code",
      "source": [
        "# Function to tokenize text into words\n",
        "def tokenize_words(text):\n",
        "    return word_tokenize(text)"
      ],
      "metadata": {
        "id": "IcHmA-1UOQoc"
      },
      "execution_count": null,
      "outputs": []
    },
    {
      "cell_type": "code",
      "source": [
        "# Function to add custom stopwords\n",
        "def add_custom_stopwords(stopwords_list, custom_stopwords):\n",
        "    stopwords_list.extend(custom_stopwords)"
      ],
      "metadata": {
        "id": "T2RRpJcIOQr5"
      },
      "execution_count": null,
      "outputs": []
    },
    {
      "cell_type": "code",
      "source": [
        "# Function to list removed stopwords\n",
        "def list_removed_stopwords(text, stopwords_list):\n",
        "    words = tokenize_words(text.lower())\n",
        "    removed_stopwords = [word for word in words if word not in stopwords_list]\n",
        "    return removed_stopwords"
      ],
      "metadata": {
        "id": "QRMODXbPOWgT"
      },
      "execution_count": null,
      "outputs": []
    },
    {
      "cell_type": "code",
      "source": [
        "text = \"Hello, Deepthi Tabitha here! Yoou caen call me Deepthi. How are you doing? I hav 2 cats andd they're vry cute! Mmy e-mail is deepthitabitha@student.tce.edu\"\n",
        "print(\"Original Text :\\n\", text)\n",
        "\n",
        "# c) Add Custom Stopwords and List Removed Stopwords\n",
        "custom_stopwords = ['example', 'contains', 'like']\n",
        "nltk_stopwords = stopwords.words('english')\n",
        "add_custom_stopwords(nltk_stopwords, custom_stopwords)\n",
        "task_c = list_removed_stopwords(text, nltk_stopwords)\n",
        "print(\"\\nList of removed stopwords:\")\n",
        "print(task_c)"
      ],
      "metadata": {
        "colab": {
          "base_uri": "https://localhost:8080/"
        },
        "id": "EBTMqs-MLzwb",
        "outputId": "ec9bb755-a6eb-43e9-f760-f714c363cc66"
      },
      "execution_count": null,
      "outputs": [
        {
          "output_type": "stream",
          "name": "stdout",
          "text": [
            "Original Text :\n",
            " Hello, Deepthi Tabitha here! Yoou caen call me Deepthi. How are you doing? I hav 2 cats andd they're vry cute! Mmy e-mail is deepthitabitha@student.tce.edu\n",
            "\n",
            "List of removed stopwords:\n",
            "['hello', ',', 'deepthi', 'tabitha', '!', 'yoou', 'caen', 'call', 'deepthi', '.', '?', 'hav', '2', 'cats', 'andd', \"'re\", 'vry', 'cute', '!', 'mmy', 'e-mail', 'deepthitabitha', '@', 'student.tce.edu']\n"
          ]
        }
      ]
    }
  ]
}