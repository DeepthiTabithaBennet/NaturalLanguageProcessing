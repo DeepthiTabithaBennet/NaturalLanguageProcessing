{
  "nbformat": 4,
  "nbformat_minor": 0,
  "metadata": {
    "colab": {
      "provenance": [],
      "authorship_tag": "ABX9TyMHyms9LlX0lNAyBMcvA6oL",
      "include_colab_link": true
    },
    "kernelspec": {
      "name": "python3",
      "display_name": "Python 3"
    },
    "language_info": {
      "name": "python"
    }
  },
  "cells": [
    {
      "cell_type": "markdown",
      "metadata": {
        "id": "view-in-github",
        "colab_type": "text"
      },
      "source": [
        "<a href=\"https://colab.research.google.com/github/DeepthiTabithaBennet/NaturalLanguageProcessing/blob/main/SyntacticAnalysis_BRIL.ipynb\" target=\"_parent\"><img src=\"https://colab.research.google.com/assets/colab-badge.svg\" alt=\"Open In Colab\"/></a>"
      ]
    },
    {
      "cell_type": "code",
      "source": [
        "import nltk\n",
        "from nltk.corpus import treebank\n",
        "from nltk.tokenize import word_tokenize\n",
        "from nltk.tag import brill, brill_trainer"
      ],
      "metadata": {
        "id": "Y3sJmJ82XaiF"
      },
      "execution_count": null,
      "outputs": []
    },
    {
      "cell_type": "code",
      "source": [
        "# Download necessary resources\n",
        "nltk.download('treebank')\n",
        "nltk.download('punkt')"
      ],
      "metadata": {
        "colab": {
          "base_uri": "https://localhost:8080/"
        },
        "id": "LknADC06XdGl",
        "outputId": "9b93e55e-3be3-4b68-a8ae-b553f32130c8"
      },
      "execution_count": null,
      "outputs": [
        {
          "output_type": "stream",
          "name": "stderr",
          "text": [
            "[nltk_data] Downloading package treebank to /root/nltk_data...\n",
            "[nltk_data]   Package treebank is already up-to-date!\n",
            "[nltk_data] Downloading package punkt to /root/nltk_data...\n",
            "[nltk_data]   Package punkt is already up-to-date!\n"
          ]
        },
        {
          "output_type": "execute_result",
          "data": {
            "text/plain": [
              "True"
            ]
          },
          "metadata": {},
          "execution_count": 20
        }
      ]
    },
    {
      "cell_type": "code",
      "source": [
        "# Load the treebank corpus\n",
        "train_sents = treebank.tagged_sents()[:3000]  # Use the first 3000 sentences for training\n",
        "test_sents = treebank.tagged_sents()[3000:3500]  # Use the next 500 sentences for testing"
      ],
      "metadata": {
        "id": "b300aFnSXfgI"
      },
      "execution_count": null,
      "outputs": []
    },
    {
      "cell_type": "code",
      "source": [
        "# Define a function to create and train a Brill tagger\n",
        "def create_brill_tagger(train_sents):\n",
        "    # Create a default tagger\n",
        "    default_tagger = nltk.DefaultTagger('NN')\n",
        "\n",
        "    # Create an initial tagger (a unigram tagger in this case)\n",
        "    initial_tagger = nltk.UnigramTagger(train_sents, backoff=default_tagger)\n",
        "\n",
        "    # Define some Brill rules\n",
        "    templates = [\n",
        "        brill.Template(brill.Pos([0])),\n",
        "        brill.Template(brill.Pos([-1])),\n",
        "        brill.Template(brill.Pos([1])),\n",
        "        brill.Template(brill.Word([0])),\n",
        "        brill.Template(brill.Word([-1])),\n",
        "        brill.Template(brill.Word([1])),\n",
        "    ]\n",
        "\n",
        "    # Create the Brill tagger trainer\n",
        "    trainer = brill_trainer.BrillTaggerTrainer(initial_tagger, templates=templates)\n",
        "\n",
        "    # Train the Brill tagger with the training data\n",
        "    brill_tagger = trainer.train(train_sents, max_rules=100)\n",
        "    return brill_tagger"
      ],
      "metadata": {
        "id": "yDd4JDxsW6Tm"
      },
      "execution_count": null,
      "outputs": []
    },
    {
      "cell_type": "code",
      "source": [
        "# Example usage of the tagger\n",
        "def tag_sentence(sentence):\n",
        "    tokens = word_tokenize(sentence)\n",
        "    tagged = brill_tagger.tag(tokens)\n",
        "    return tagged"
      ],
      "metadata": {
        "id": "t6vbbNzxXocE"
      },
      "execution_count": null,
      "outputs": []
    },
    {
      "cell_type": "code",
      "source": [
        "# Create and train the Brill tagger\n",
        "brill_tagger = create_brill_tagger(train_sents)\n",
        "# Example sentence\n",
        "sentence = \"This is a simple sentence.\"\n",
        "print(tag_sentence(sentence))"
      ],
      "metadata": {
        "colab": {
          "base_uri": "https://localhost:8080/"
        },
        "id": "w3Q67y0zXl1N",
        "outputId": "4dd307af-8021-4d1b-be30-ce995f95395e"
      },
      "execution_count": null,
      "outputs": [
        {
          "output_type": "stream",
          "name": "stdout",
          "text": [
            "[('This', 'DT'), ('is', 'VBZ'), ('a', 'DT'), ('simple', 'JJ'), ('sentence', 'NN'), ('.', '.')]\n"
          ]
        }
      ]
    }
  ]
}