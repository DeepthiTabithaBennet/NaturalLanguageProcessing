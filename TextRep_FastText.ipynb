{
  "nbformat": 4,
  "nbformat_minor": 0,
  "metadata": {
    "colab": {
      "provenance": [],
      "authorship_tag": "ABX9TyPXJCHnxVQaqeI7UfAp/du5",
      "include_colab_link": true
    },
    "kernelspec": {
      "name": "python3",
      "display_name": "Python 3"
    },
    "language_info": {
      "name": "python"
    }
  },
  "cells": [
    {
      "cell_type": "markdown",
      "metadata": {
        "id": "view-in-github",
        "colab_type": "text"
      },
      "source": [
        "<a href=\"https://colab.research.google.com/github/DeepthiTabithaBennet/NaturalLanguageProcessing/blob/main/TextRep_FastText.ipynb\" target=\"_parent\"><img src=\"https://colab.research.google.com/assets/colab-badge.svg\" alt=\"Open In Colab\"/></a>"
      ]
    },
    {
      "cell_type": "code",
      "source": [
        "!pip install fasttext"
      ],
      "metadata": {
        "colab": {
          "base_uri": "https://localhost:8080/"
        },
        "id": "VghG4Iwh5ZEI",
        "outputId": "ca2347bd-56dd-43d5-c57e-62bd5d19b020"
      },
      "execution_count": null,
      "outputs": [
        {
          "output_type": "stream",
          "name": "stdout",
          "text": [
            "Collecting fasttext\n",
            "  Downloading fasttext-0.9.3.tar.gz (73 kB)\n",
            "\u001b[2K     \u001b[90m━━━━━━━━━━━━━━━━━━━━━━━━━━━━━━━━━━━━━━━━\u001b[0m \u001b[32m73.4/73.4 kB\u001b[0m \u001b[31m3.1 MB/s\u001b[0m eta \u001b[36m0:00:00\u001b[0m\n",
            "\u001b[?25h  Installing build dependencies ... \u001b[?25l\u001b[?25hdone\n",
            "  Getting requirements to build wheel ... \u001b[?25l\u001b[?25hdone\n",
            "  Preparing metadata (pyproject.toml) ... \u001b[?25l\u001b[?25hdone\n",
            "Collecting pybind11>=2.2 (from fasttext)\n",
            "  Using cached pybind11-2.13.6-py3-none-any.whl.metadata (9.5 kB)\n",
            "Requirement already satisfied: setuptools>=0.7.0 in /usr/local/lib/python3.10/dist-packages (from fasttext) (71.0.4)\n",
            "Requirement already satisfied: numpy in /usr/local/lib/python3.10/dist-packages (from fasttext) (1.26.4)\n",
            "Using cached pybind11-2.13.6-py3-none-any.whl (243 kB)\n",
            "Building wheels for collected packages: fasttext\n",
            "  Building wheel for fasttext (pyproject.toml) ... \u001b[?25l\u001b[?25hdone\n",
            "  Created wheel for fasttext: filename=fasttext-0.9.3-cp310-cp310-linux_x86_64.whl size=4296187 sha256=83ad7669b4b92c5bd0f2e0847e063f4e5b01f79d77f8a5cddd4f045a85494524\n",
            "  Stored in directory: /root/.cache/pip/wheels/0d/a2/00/81db54d3e6a8199b829d58e02cec2ddb20ce3e59fad8d3c92a\n",
            "Successfully built fasttext\n",
            "Installing collected packages: pybind11, fasttext\n",
            "Successfully installed fasttext-0.9.3 pybind11-2.13.6\n"
          ]
        }
      ]
    },
    {
      "cell_type": "code",
      "source": [
        "from gensim.models import FastText\n",
        "\n",
        "# Define a simple corpus (list of tokenized sentences)\n",
        "sentences = [['I', 'love', 'natural', 'language', 'processing'],\n",
        "             ['FastText', 'is', 'amazing', 'for', 'NLP', 'tasks']]\n",
        "\n",
        "# Train a FastText model\n",
        "model = FastText(sentences, vector_size=100, window=3, min_count=1, sg=1)\n",
        "\n",
        "# Get the vector for a word\n",
        "word_vector = model.wv['FastText']\n",
        "print(word_vector)"
      ],
      "metadata": {
        "colab": {
          "base_uri": "https://localhost:8080/"
        },
        "id": "knUqL_tf5VJg",
        "outputId": "c6059e89-8958-423d-a12b-2929994b166d"
      },
      "execution_count": null,
      "outputs": [
        {
          "output_type": "stream",
          "name": "stdout",
          "text": [
            "[-5.3831650e-04  1.1937076e-03 -2.1374777e-03 -1.5698626e-03\n",
            " -1.8988259e-03 -1.2190342e-03 -3.0274352e-04  2.7237687e-04\n",
            "  4.5174357e-04  7.7667175e-04 -8.6075469e-04 -1.0672322e-03\n",
            " -5.1365336e-05  8.6863938e-04  1.5331994e-04 -7.6035573e-04\n",
            "  3.0662349e-04 -2.5133620e-04  5.3232093e-04 -1.4533731e-03\n",
            " -1.2995446e-03 -3.7216631e-04  5.9441291e-04  4.0687036e-04\n",
            " -1.5883818e-03 -3.9558909e-05  1.9270359e-03  6.1879266e-04\n",
            "  1.9947826e-03  1.4292692e-03  2.9138246e-05  5.9763942e-04\n",
            "  7.1224599e-04 -1.3749796e-03 -6.6075148e-04  5.0712889e-04\n",
            "  4.5744522e-04 -2.6486389e-04  1.3949840e-03 -1.0297539e-03\n",
            "  7.4432243e-04 -2.4870050e-03 -6.2571658e-04  7.9862966e-04\n",
            "  2.7167867e-03 -1.5622184e-04  1.1499173e-03 -1.2072441e-03\n",
            "  1.1409106e-03  2.2189830e-04 -1.1119023e-03 -3.1709464e-04\n",
            "  4.9709412e-04  5.9709704e-04  2.2135342e-03  7.3003594e-04\n",
            "  6.7015330e-04  4.7398062e-04 -1.9563948e-04 -1.9534242e-03\n",
            "  8.8096608e-04  9.9290651e-04 -1.2832183e-03 -1.8686154e-03\n",
            " -4.4026331e-04  3.3100668e-04  3.2361425e-04  6.1397572e-05\n",
            "  6.4681919e-04 -1.1165413e-03 -4.2660939e-04  6.5896293e-04\n",
            "  5.3541467e-04  3.1105871e-04 -6.0614652e-04  1.1704289e-03\n",
            " -9.7262335e-04  7.1689521e-04 -5.6452194e-04  2.3745230e-04\n",
            "  2.2264982e-03  1.9551001e-03 -1.5523725e-03  1.7797936e-03\n",
            " -1.0866906e-03 -1.0526405e-03 -1.7400282e-03  1.0881057e-03\n",
            "  7.3967944e-04  5.3289247e-04 -1.9979812e-03  2.1706756e-04\n",
            "  1.3899590e-03  3.1775443e-04  4.2030774e-04 -2.4180561e-03\n",
            " -1.7486297e-03  4.0696312e-05 -2.1502459e-03 -1.0901126e-03]\n"
          ]
        }
      ]
    }
  ]
}